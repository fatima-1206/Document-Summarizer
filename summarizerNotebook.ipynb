{
 "cells": [
  {
   "cell_type": "code",
   "execution_count": 78,
   "id": "143bfbc7",
   "metadata": {},
   "outputs": [
    {
     "name": "stderr",
     "output_type": "stream",
     "text": [
      "[nltk_data] Downloading package punkt to\n",
      "[nltk_data]     C:\\Users\\fati1\\AppData\\Roaming\\nltk_data...\n",
      "[nltk_data]   Package punkt is already up-to-date!\n"
     ]
    }
   ],
   "source": [
    "import os\n",
    "import pdfplumber\n",
    "import nltk\n",
    "nltk.download('punkt')\n",
    "from nltk.tokenize import sent_tokenize\n",
    "import markdown\n",
    "from bs4 import BeautifulSoup\n",
    "import re\n",
    "import unicodedata\n",
    "from langchain_experimental.text_splitter import SemanticChunker\n",
    "from langchain.embeddings import HuggingFaceEmbeddings\n",
    "from langchain.text_splitter import RecursiveCharacterTextSplitter\n",
    "from langchain.vectorstores import Chroma\n",
    "from transformers import AutoModelForSeq2SeqLM, AutoTokenizer, pipeline\n",
    "from langchain.llms import HuggingFacePipeline\n",
    "from langchain.prompts import PromptTemplate\n",
    "from sklearn.metrics.pairwise import cosine_similarity\n",
    "import numpy as np\n",
    "\n"
   ]
  },
  {
   "cell_type": "markdown",
   "id": "7c211c12",
   "metadata": {},
   "source": [
    "## Document Parsing"
   ]
  },
  {
   "cell_type": "markdown",
   "id": "f75c5a9c",
   "metadata": {},
   "source": [
    "### Data Loading "
   ]
  },
  {
   "cell_type": "markdown",
   "id": "47b626fa",
   "metadata": {},
   "source": [
    "File Path here"
   ]
  },
  {
   "cell_type": "code",
   "execution_count": 79,
   "id": "76203ff9",
   "metadata": {},
   "outputs": [
    {
     "name": "stderr",
     "output_type": "stream",
     "text": [
      "<>:1: SyntaxWarning: invalid escape sequence '\\T'\n",
      "<>:1: SyntaxWarning: invalid escape sequence '\\T'\n",
      "C:\\Users\\fati1\\AppData\\Local\\Temp\\ipykernel_10680\\246868020.py:1: SyntaxWarning: invalid escape sequence '\\T'\n",
      "  file_path = \"D:\\Tarot-Card-Meanings.pdf\"\n"
     ]
    }
   ],
   "source": [
    "file_path = \"D:\\Tarot-Card-Meanings.pdf\""
   ]
  },
  {
   "cell_type": "markdown",
   "id": "639a0f4b",
   "metadata": {},
   "source": [
    "Get the file extension and parse it accordingly"
   ]
  },
  {
   "cell_type": "code",
   "execution_count": 80,
   "id": "b7922e89",
   "metadata": {},
   "outputs": [],
   "source": [
    "# get file extension\n",
    "def get_file_extension(file_path):\n",
    "    return os.path.splitext(file_path)[-1].lower()\n"
   ]
  },
  {
   "cell_type": "code",
   "execution_count": 81,
   "id": "80804ab1",
   "metadata": {},
   "outputs": [],
   "source": [
    "# use the appropriate text parser based on file extension (pdf, markdown, txt)\n",
    "def parse_file(file_path):\n",
    "    file_extension = get_file_extension(file_path)\n",
    "    \n",
    "    if file_extension == '.pdf':\n",
    "        with pdfplumber.open(file_path) as pdf:\n",
    "            text = ''\n",
    "            for page in pdf.pages:\n",
    "                text += page.extract_text() + '\\n'\n",
    "            return text\n",
    "    elif file_extension == '.md' or file_extension == '.markdown':\n",
    "        with open(file_path, \"r\", encoding=\"utf-8\") as file:\n",
    "            html = markdown.markdown(file.read())\n",
    "        return BeautifulSoup(html, \"html.parser\").get_text()\n",
    "    elif file_extension == '.txt':\n",
    "        with open(file_path, 'r', encoding='utf-8') as f:\n",
    "            return f.read()\n",
    "    else:\n",
    "        raise ValueError(f\"Unsupported file type: {file_extension}\")\n",
    "    \n",
    "\n",
    "    "
   ]
  },
  {
   "cell_type": "code",
   "execution_count": 82,
   "id": "0b58f1e0",
   "metadata": {},
   "outputs": [
    {
     "name": "stderr",
     "output_type": "stream",
     "text": [
      "CropBox missing from /Page, defaulting to MediaBox\n",
      "CropBox missing from /Page, defaulting to MediaBox\n",
      "CropBox missing from /Page, defaulting to MediaBox\n",
      "CropBox missing from /Page, defaulting to MediaBox\n",
      "CropBox missing from /Page, defaulting to MediaBox\n",
      "CropBox missing from /Page, defaulting to MediaBox\n",
      "CropBox missing from /Page, defaulting to MediaBox\n",
      "CropBox missing from /Page, defaulting to MediaBox\n",
      "CropBox missing from /Page, defaulting to MediaBox\n",
      "CropBox missing from /Page, defaulting to MediaBox\n",
      "CropBox missing from /Page, defaulting to MediaBox\n",
      "CropBox missing from /Page, defaulting to MediaBox\n",
      "CropBox missing from /Page, defaulting to MediaBox\n",
      "CropBox missing from /Page, defaulting to MediaBox\n",
      "CropBox missing from /Page, defaulting to MediaBox\n",
      "CropBox missing from /Page, defaulting to MediaBox\n",
      "CropBox missing from /Page, defaulting to MediaBox\n",
      "CropBox missing from /Page, defaulting to MediaBox\n",
      "CropBox missing from /Page, defaulting to MediaBox\n",
      "CropBox missing from /Page, defaulting to MediaBox\n",
      "CropBox missing from /Page, defaulting to MediaBox\n",
      "CropBox missing from /Page, defaulting to MediaBox\n",
      "CropBox missing from /Page, defaulting to MediaBox\n",
      "CropBox missing from /Page, defaulting to MediaBox\n",
      "CropBox missing from /Page, defaulting to MediaBox\n",
      "CropBox missing from /Page, defaulting to MediaBox\n",
      "CropBox missing from /Page, defaulting to MediaBox\n",
      "CropBox missing from /Page, defaulting to MediaBox\n",
      "CropBox missing from /Page, defaulting to MediaBox\n",
      "CropBox missing from /Page, defaulting to MediaBox\n",
      "CropBox missing from /Page, defaulting to MediaBox\n",
      "CropBox missing from /Page, defaulting to MediaBox\n"
     ]
    }
   ],
   "source": [
    "raw_text = parse_file(file_path)"
   ]
  },
  {
   "cell_type": "code",
   "execution_count": null,
   "id": "c96aec86",
   "metadata": {},
   "outputs": [],
   "source": []
  },
  {
   "cell_type": "markdown",
   "id": "aded9262",
   "metadata": {},
   "source": [
    "### Preprocessing"
   ]
  },
  {
   "cell_type": "markdown",
   "id": "2b720e64",
   "metadata": {},
   "source": [
    "Cleaning the text"
   ]
  },
  {
   "cell_type": "code",
   "execution_count": 83,
   "id": "8d4786e5",
   "metadata": {},
   "outputs": [],
   "source": [
    "\n",
    "def clean_text(text):\n",
    "    # Normalize line breaks and spaces\n",
    "    text = re.sub(r'\\r\\n|\\r', '\\n', text)           # Convert \\r\\n or \\r to \\n\n",
    "    text = re.sub(r'\\n{2,}', '\\n\\n', text)          # Collapse many newlines into 2\n",
    "    text = re.sub(r'[ \\t]+', ' ', text)             # Remove extra spaces/tabs\n",
    "\n",
    "    # Normalize unicode \n",
    "    text = unicodedata.normalize(\"NFKD\", text)\n",
    "    def add_period_to_bullet(match):\n",
    "        line = match.group(0).strip()\n",
    "        if not line.endswith('.'):\n",
    "            return line + '.'\n",
    "        return line\n",
    "\n",
    "    # Add periods to lines that start with bullet markers (before removing markers)\n",
    "    text = re.sub(r'(?m)^\\s*[-*+]\\s+(.*)', lambda m: \"- \" + add_period_to_bullet(m), text)\n",
    "    # Remove common bullet points\n",
    "    text = re.sub(\n",
    "        r'[\\u2022\\u2023\\u25E6\\u2043\\u2219\\u25AA\\u25AB\\u25CB\\u25CF\\u25A0\\u25B8\\u29BE\\u29BF]',\n",
    "          '', text)\n",
    "\n",
    "    # Remove markdown or ASCII-style tables\n",
    "    text = re.sub(r'\\|.*?\\|', '', text)      # Remove markdown tables\n",
    "    text = re.sub(r'[-=]{3,}', '', text)     # Remove underlines in tables\n",
    "    text = re.sub(r'^\\s*[\\-\\*+]\\s+', '', text, flags=re.MULTILINE)  # Bulleted list lines\n",
    "\n",
    "    # Remove figure/table/image captions\n",
    "    text = re.sub(r'(Figure|Table|Image|Chart|Diagram)\\s*\\d+[\\.:]?', '', text, flags=re.IGNORECASE)\n",
    "\n",
    "    # Remove bracketed footnotes like [1], [12], (Fig. 3), etc.\n",
    "    text = re.sub(r'\\[\\d+\\]', '', text)\n",
    "    text = re.sub(r'\\(.*?fig.,\\'*?\\)', '', text, flags=re.IGNORECASE)\n",
    "\n",
    "    # Remove URLs\n",
    "    text = re.sub(r'https?://\\S+|www\\.\\S+', '', text)\n",
    "\n",
    "    # Fix line breaks and hyphens split across lines\n",
    "    text = re.sub(r'-\\n', '', text)  # Remove hyphenated line-breaks\n",
    "    text = re.sub(r'\\n+', '\\n', text)  # Collapse newlines\n",
    "    text = re.sub(r'[ \\t]+', ' ', text)  # Normalize spaces\n",
    "\n",
    "    # Strip remaining non-ASCII or odd symbols\n",
    "    text = re.sub(r'[^\\x00-\\x7F]+', ' ', text)\n",
    "    # before every \\n add a period if it doesn't end with one special character\n",
    "    text = re.sub(r'(?<![.!?:])\\n', '. \\n', text)     \n",
    "\n",
    "    return text.strip()\n"
   ]
  },
  {
   "cell_type": "markdown",
   "id": "058adda6",
   "metadata": {},
   "source": [
    "## Chunking"
   ]
  },
  {
   "cell_type": "markdown",
   "id": "c78cb07c",
   "metadata": {},
   "source": [
    "Download the embedding model from hugging face"
   ]
  },
  {
   "cell_type": "code",
   "execution_count": 84,
   "id": "7ea0e617",
   "metadata": {},
   "outputs": [],
   "source": [
    "embedding_model = HuggingFaceEmbeddings(model_name=\"sentence-transformers/all-mpnet-base-v2\")"
   ]
  },
  {
   "cell_type": "markdown",
   "id": "a24ac218",
   "metadata": {},
   "source": [
    "We will be using the semantic Chunker from langchain"
   ]
  },
  {
   "cell_type": "code",
   "execution_count": 85,
   "id": "2266552f",
   "metadata": {},
   "outputs": [],
   "source": [
    "semantic_chunker = SemanticChunker(embedding_model, breakpoint_threshold_type=\"percentile\")\n"
   ]
  },
  {
   "cell_type": "code",
   "execution_count": 86,
   "id": "662cc2a7",
   "metadata": {},
   "outputs": [],
   "source": [
    "chunks = semantic_chunker.split_text(text)\n",
    "\n"
   ]
  },
  {
   "cell_type": "code",
   "execution_count": 87,
   "id": "d84177eb",
   "metadata": {},
   "outputs": [],
   "source": [
    "metadatas = [\n",
    "    {\n",
    "        \"source\": file_path,\n",
    "        \"chunk_index\": i,\n",
    "        \"length\": len(chunks[i])\n",
    "\n",
    "    }\n",
    "    for i in range(len(chunks))\n",
    "]\n"
   ]
  },
  {
   "cell_type": "markdown",
   "id": "3f74c726",
   "metadata": {},
   "source": [
    "## Vector Storage"
   ]
  },
  {
   "cell_type": "code",
   "execution_count": 88,
   "id": "76d69730",
   "metadata": {},
   "outputs": [],
   "source": [
    "db = Chroma(\n",
    "    persist_directory=\"chroma_store\",\n",
    "    embedding_function=embedding_model\n",
    ")"
   ]
  },
  {
   "cell_type": "code",
   "execution_count": 89,
   "id": "c4870864",
   "metadata": {},
   "outputs": [
    {
     "data": {
      "text/plain": [
       "['a0759bfd-b9f8-4548-b58b-8ddc0e3246c2',\n",
       " '17fbfde6-1c29-42ca-8481-c50d6e542e72',\n",
       " '2fb0f32b-8e78-4363-9d52-a37b50e6e236',\n",
       " '23f57c5f-1357-4fea-b50b-76942e2ef984',\n",
       " 'a7520d4b-6904-4966-8812-2a1015dd30b8',\n",
       " '0d636eb6-a801-46c7-a549-4ff5f55d1621',\n",
       " '933b25b0-396f-4041-9463-9661e09ab675',\n",
       " '83fbe326-94d8-44f3-93cf-a395586ad542',\n",
       " 'd012e2fb-e711-4718-8273-d1114a1c3aed',\n",
       " '51a01471-a773-4cfe-ae61-a2100c49190e',\n",
       " '3ebb3244-40b3-411e-b00c-3486d9139890',\n",
       " 'd9e6f6d3-72ad-4d28-9a5a-c7f77357dcc6',\n",
       " '08dd0a60-5ea7-46d0-979f-2f23126119c5',\n",
       " 'ded89f22-63c4-4b6e-90e2-d19a5aed7d77',\n",
       " 'd51583c1-0da5-45d8-84e9-8da9d0e2799a',\n",
       " 'b3d3b483-5595-4016-8d6c-899a50ffbe7f',\n",
       " 'cfae656e-569e-43eb-9e20-016d569413d8',\n",
       " 'b9238a14-211e-4aa8-8f68-559b8a4c1d17',\n",
       " '42bbb5e8-e49a-41be-bc57-8f8d3fb614e7',\n",
       " '5f8c983f-707d-4c0c-b15e-3d87d8b89cc3',\n",
       " '4259d1bd-8041-467c-b04b-e0707eacc283',\n",
       " 'dd0e76b4-399a-4cda-8649-3fd328455b13',\n",
       " 'c535228a-f1f2-4cac-823f-0d258a818b1c',\n",
       " '04b844ce-be8c-4cc1-9ece-4bc06b961d1f',\n",
       " 'bb4085f6-a3e8-4aa1-baa3-686977f57b4a',\n",
       " '81b20a25-f4c8-4c0a-8d33-11608a01b2ab',\n",
       " '1d9d2e3c-fe04-434f-bfda-2a47eb2461d7',\n",
       " '76cfe704-4e04-4f02-9752-082a6fbce49b',\n",
       " '0e1e58e4-d5bd-49c9-8344-faf769498879']"
      ]
     },
     "execution_count": 89,
     "metadata": {},
     "output_type": "execute_result"
    }
   ],
   "source": [
    "docs = list(set(chunks))  \n",
    "db.add_texts( texts=chunks, metadatas=metadatas)"
   ]
  },
  {
   "cell_type": "code",
   "execution_count": 90,
   "id": "e3e15fad",
   "metadata": {},
   "outputs": [],
   "source": [
    "db.persist()"
   ]
  },
  {
   "cell_type": "markdown",
   "id": "d5dc0ea3",
   "metadata": {},
   "source": [
    "## General Query Answering"
   ]
  },
  {
   "cell_type": "markdown",
   "id": "4f7afaad",
   "metadata": {},
   "source": [
    "### Query Embedding"
   ]
  },
  {
   "cell_type": "markdown",
   "id": "6dea59fd",
   "metadata": {},
   "source": [
    "Embedd the query"
   ]
  },
  {
   "cell_type": "code",
   "execution_count": 91,
   "id": "b03913b1",
   "metadata": {},
   "outputs": [],
   "source": [
    "query = \"What does the card \\\"The Fool\\\" mean ?\"\n",
    "query_embedding = embedding_model.embed_query(query)"
   ]
  },
  {
   "cell_type": "markdown",
   "id": "9ab77b53",
   "metadata": {},
   "source": [
    "### Similarity Search"
   ]
  },
  {
   "cell_type": "code",
   "execution_count": 92,
   "id": "2fc4c4a0",
   "metadata": {},
   "outputs": [],
   "source": [
    "# make the chroma store act like a retriever\n",
    "retriever = db.as_retriever()"
   ]
  },
  {
   "cell_type": "code",
   "execution_count": 93,
   "id": "1af4b345",
   "metadata": {},
   "outputs": [],
   "source": [
    "# perform the similarity search to get the most relevant chunks\n",
    "results = retriever.get_relevant_documents(query)"
   ]
  },
  {
   "cell_type": "code",
   "execution_count": 94,
   "id": "602926b5",
   "metadata": {},
   "outputs": [
    {
     "name": "stdout",
     "output_type": "stream",
     "text": [
      "Query: What does the card \"The Fool\" mean ?\n",
      "\n",
      "Result 1:\n",
      "Liz Dean 2018\n",
      "Tarot Card Meanings\n",
      "For easy reference and to help you get started with your readings, in the following pages I\n",
      "have produced a short divinatory meaning for each card. You will find lists of meanings for\n",
      "the Major Arcana and the Minor Arcana suits of Wands, Pentacles, Swords and Cups. Have fun  \n",
      "Liz Dean\n",
      "P a g e | 2\n",
      "  Liz Dean 2018\n",
      "The Major Arcana\n",
      "0 The Fool says: Look before you leap! It s time for a new adventure, but there is a level of risk. Consider your options carefully,\n",
      "and when you are sure, take that leap of faith. Home: If you are a parent, The Fool can show a young person leaving home. Otherwise, it\n",
      "predicts a sociable time, with lots of visitors   who may also help you with a new project. Love and Relationships: A new path takes you towards love; this card often appears after a\n",
      "break-up. Career and Money: A great opportunity awaits. Seize it while you can. Spiritual Development: New discoveries. You are finding your soul s path\n",
      "Is he upside down? Beware false promises and naivete .\n",
      "\n",
      "Metadata: {'source': 'D:\\\\Tarot-Card-Meanings.pdf', 'length': 1024, 'chunk_index': 0}\n",
      "\n",
      "Result 2:\n",
      "Liz Dean 2018\n",
      "Tarot Card Meanings\n",
      "For easy reference and to help you get started with your readings, in the following pages I\n",
      "have produced a short divinatory meaning for each card. You will find lists of meanings for\n",
      "the Major Arcana and the Minor Arcana suits of Wands, Pentacles, Swords and Cups. Have fun  \n",
      "Liz Dean\n",
      "P a g e | 2\n",
      "  Liz Dean 2018\n",
      "The Major Arcana\n",
      "0 The Fool says: Look before you leap! It s time for a new adventure, but there is a level of risk. Consider your options carefully,\n",
      "and when you are sure, take that leap of faith. Home: If you are a parent, The Fool can show a young person leaving home. Otherwise, it\n",
      "predicts a sociable time, with lots of visitors   who may also help you with a new project. Love and Relationships: A new path takes you towards love; this card often appears after a\n",
      "break-up. Career and Money: A great opportunity awaits. Seize it while you can. Spiritual Development: New discoveries. You are finding your soul s path\n",
      "Is he upside down? Beware false promises and naivete .\n",
      "\n",
      "Metadata: {'source': 'D:\\\\Tarot-Card-Meanings.pdf', 'length': 1024, 'chunk_index': 0}\n",
      "\n",
      "Result 3:\n",
      "Pressure and opposition; being forced into playing someone else s game. Work on your\n",
      "strategy. P a g e | 13\n",
      "  Totally Tarot 2015\n",
      "Eight of Swords\n",
      "Restriction, blocks to your plans; an inability to see the situation clearly, often due to\n",
      "overthinking. Is it upside down? Adversity. Gather your strength - you do have it - and give yourself some options. You can be\n",
      "free. Nine of Swords\n",
      "The  insomnia  card - or the thoughts and anxieties that keep you awake. This is a difficult,\n",
      "stressful time - hang on in there. Is it upside down? Recurring negative thoughts in response to problems. Ask for help to break the cycle - you can\n",
      "do it. Ten of Swords\n",
      "Sudden endings - much like the meaning of card XVI, The Tower, or XIII, Death. At least your\n",
      "situation is clear, and you can now move forward.\n",
      "\n",
      "Metadata: {'chunk_index': 23, 'source': 'D:\\\\Tarot-Card-Meanings.pdf', 'length': 790}\n",
      "\n",
      "Result 4:\n",
      "Pressure and opposition; being forced into playing someone else s game. Work on your\n",
      "strategy. P a g e | 13\n",
      "  Totally Tarot 2015\n",
      "Eight of Swords\n",
      "Restriction, blocks to your plans; an inability to see the situation clearly, often due to\n",
      "overthinking. Is it upside down? Adversity. Gather your strength - you do have it - and give yourself some options. You can be\n",
      "free. Nine of Swords\n",
      "The  insomnia  card - or the thoughts and anxieties that keep you awake. This is a difficult,\n",
      "stressful time - hang on in there. Is it upside down? Recurring negative thoughts in response to problems. Ask for help to break the cycle - you can\n",
      "do it. Ten of Swords\n",
      "Sudden endings - much like the meaning of card XVI, The Tower, or XIII, Death. At least your\n",
      "situation is clear, and you can now move forward.\n",
      "\n",
      "Metadata: {'length': 790, 'chunk_index': 23, 'source': 'D:\\\\Tarot-Card-Meanings.pdf'}\n",
      "\n"
     ]
    }
   ],
   "source": [
    "\n",
    "print(f\"Query: {query}\\n\")\n",
    "for i, result in enumerate(results):\n",
    "    print(f\"Result {i+1}:\\n{result.page_content}\\n\")\n",
    "    print(f\"Metadata: {result.metadata}\\n\")"
   ]
  },
  {
   "cell_type": "markdown",
   "id": "9af1657f",
   "metadata": {},
   "source": [
    "### Generating Response"
   ]
  },
  {
   "cell_type": "code",
   "execution_count": 95,
   "id": "93146b55",
   "metadata": {},
   "outputs": [
    {
     "name": "stderr",
     "output_type": "stream",
     "text": [
      "Device set to use cpu\n"
     ]
    }
   ],
   "source": [
    "model_name = \"google/flan-t5-base\"\n",
    "\n",
    "tokenizer = AutoTokenizer.from_pretrained(model_name)\n",
    "model = AutoModelForSeq2SeqLM.from_pretrained(model_name)\n",
    "\n",
    "pipe = pipeline(\n",
    "    \"text2text-generation\",\n",
    "    model=model,\n",
    "    tokenizer=tokenizer,\n",
    "    max_length=512\n",
    ")\n",
    "\n",
    "# Wrap it with LangChain\n",
    "llm = HuggingFacePipeline(pipeline=pipe)\n"
   ]
  },
  {
   "cell_type": "markdown",
   "id": "626752a3",
   "metadata": {},
   "source": [
    "Now generating the final prompt by combining the query and the chunks"
   ]
  },
  {
   "cell_type": "code",
   "execution_count": 96,
   "id": "656d8efe",
   "metadata": {},
   "outputs": [],
   "source": [
    "def trim_context_to_token_limit(docs, tokenizer, max_tokens):\n",
    "    context = \"\"\n",
    "    total_tokens = 0\n",
    "\n",
    "    for doc in docs:\n",
    "        doc_text = doc.page_content.strip() if hasattr(doc, 'page_content') else str(doc)\n",
    "        doc_tokens = tokenizer(doc_text, return_tensors='pt', truncation=False)['input_ids'][0]\n",
    "        if total_tokens + len(doc_tokens) <= max_tokens:\n",
    "            context += doc_text + \"\\n\\n\"\n",
    "            total_tokens += len(doc_tokens)\n",
    "        else:\n",
    "            break\n",
    "    return context.strip()"
   ]
  },
  {
   "cell_type": "code",
   "execution_count": 97,
   "id": "2712e8f5",
   "metadata": {},
   "outputs": [],
   "source": [
    "context = trim_context_to_token_limit(results, tokenizer, 512)"
   ]
  },
  {
   "cell_type": "code",
   "execution_count": 98,
   "id": "23484eaf",
   "metadata": {},
   "outputs": [],
   "source": [
    "\n",
    "prompt_template = PromptTemplate(\n",
    "    input_variables=[\"context\", \"question\"],\n",
    "    template=\"\"\"\n",
    "    Use the following context to answer the question at the end. \n",
    "    Even if the question is not directly answered in the context, say \"It's not clearly mentioned but my best guess is\"\n",
    "    and use the context to provide a guess.\n",
    "    Give a detailed answer based on the context provided.\n",
    "    Context:\n",
    "    {context}\n",
    "\n",
    "    Question:\n",
    "    {question}\n",
    "\n",
    "    Answer:\"\"\"\n",
    ")\n"
   ]
  },
  {
   "cell_type": "code",
   "execution_count": 99,
   "id": "2deff68f",
   "metadata": {},
   "outputs": [],
   "source": [
    "from langchain.chains import LLMChain\n",
    "\n",
    "rag_chain = LLMChain(\n",
    "    llm=llm,\n",
    "    prompt=prompt_template\n",
    ")\n"
   ]
  },
  {
   "cell_type": "code",
   "execution_count": 100,
   "id": "03ea7317",
   "metadata": {},
   "outputs": [
    {
     "name": "stdout",
     "output_type": "stream",
     "text": [
      "The Fool says: Look before you leap! It s time for a new adventure, but there is a level of risk. Consider your options carefully, and when you are sure, take that leap of faith. Home: If you are a parent, The Fool can show a young person leaving home. Otherwise, it predicts a sociable time, with lots of visitors who may also help you with a new project. Career and Money: A great opportunity awaits. Seize it while you can. Spiritual Development: New discoveries. You are finding your soul 's path Is he upside down? Beware false promises and naivete.\n"
     ]
    }
   ],
   "source": [
    "\n",
    "response = rag_chain.run({\n",
    "    \"context\": context,\n",
    "    \"question\": query\n",
    "})\n",
    "\n",
    "print(response)\n"
   ]
  },
  {
   "cell_type": "markdown",
   "id": "da1e796f",
   "metadata": {},
   "source": [
    "## Summarization"
   ]
  },
  {
   "cell_type": "code",
   "execution_count": 101,
   "id": "3486593a",
   "metadata": {},
   "outputs": [
    {
     "name": "stderr",
     "output_type": "stream",
     "text": [
      "Device set to use cpu\n"
     ]
    }
   ],
   "source": [
    "summarization_model = AutoModelForSeq2SeqLM.from_pretrained(\"sshleifer/distilbart-cnn-12-6\")\n",
    "summarization_model_name = \"sshleifer/distilbart-cnn-12-6\"\n",
    "tokenizer_sum = AutoTokenizer.from_pretrained(summarization_model_name)\n",
    "model_sum = AutoModelForSeq2SeqLM.from_pretrained(summarization_model_name)\n",
    "\n",
    "pipe_sum = pipeline(\n",
    "    \"text2text-generation\",\n",
    "    model=model_sum,\n",
    "    tokenizer=tokenizer_sum,\n",
    "    max_length=1024\n",
    ")\n",
    "\n",
    "# Wrap it with LangChain\n",
    "llm_sum = HuggingFacePipeline(pipeline=pipe_sum)\n"
   ]
  },
  {
   "cell_type": "code",
   "execution_count": 102,
   "id": "1f551796",
   "metadata": {},
   "outputs": [
    {
     "name": "stdout",
     "output_type": "stream",
     "text": [
      " Suit of Wands are associated with the element of fire . They represent heat, passion and creativity . When reading be mindful of burning desires and what ignites passion . Self-centeredness when what s needed is generosity; egotism . You may feel ignored by someone busy feathering his or her own nest .\n"
     ]
    }
   ],
   "source": [
    "\n",
    "def get_summary(vectorstore=\"\", llm_sum=llm_sum, k=20):\n",
    "    vectorstore = db\n",
    "    collection = vectorstore._collection\n",
    "    all_docs = collection.get(include=[\"documents\", \"embeddings\"])\n",
    "    \n",
    "    embeddings = np.array(all_docs[\"embeddings\"])\n",
    "    documents = all_docs[\"documents\"]\n",
    "\n",
    "    centroid = np.mean(embeddings, axis=0).reshape(1, -1)\n",
    "    salience_scores = np.linalg.norm(embeddings - centroid, axis=1)\n",
    "\n",
    "    lower_bound = np.percentile(salience_scores, 5)\n",
    "    upper_bound = np.percentile(salience_scores, 86)\n",
    "\n",
    "    mid_band_indices = [\n",
    "        i for i, score in enumerate(salience_scores)\n",
    "        if lower_bound < score < upper_bound\n",
    "    ]\n",
    "\n",
    "    mid_band_indices.sort(key=lambda i: salience_scores[i], reverse=True)\n",
    "    k = min(k, len(mid_band_indices))\n",
    "    salient_chunks = [documents[i] for i in mid_band_indices[:k]]\n",
    "    # if a token is larger than 500 characters, get rid of it\n",
    "    salient_chunks = [chunk for chunk in salient_chunks if len(chunk) <= 500]\n",
    "\n",
    "    text = trim_context_to_token_limit(\n",
    "        salient_chunks, tokenizer_sum, 1024\n",
    "    )\n",
    "    summary = llm_sum.invoke(text)\n",
    "    return summary\n",
    "\n",
    "\n",
    "print(\n",
    "    get_summary(db, llm_sum)\n",
    ")\n",
    "\n"
   ]
  },
  {
   "cell_type": "markdown",
   "id": "f1530c52",
   "metadata": {},
   "source": [
    "## Empty Collection"
   ]
  },
  {
   "cell_type": "code",
   "execution_count": 103,
   "id": "7e396467",
   "metadata": {},
   "outputs": [],
   "source": [
    "db.delete_collection()"
   ]
  }
 ],
 "metadata": {
  "kernelspec": {
   "display_name": "myvenv",
   "language": "python",
   "name": "python3"
  },
  "language_info": {
   "codemirror_mode": {
    "name": "ipython",
    "version": 3
   },
   "file_extension": ".py",
   "mimetype": "text/x-python",
   "name": "python",
   "nbconvert_exporter": "python",
   "pygments_lexer": "ipython3",
   "version": "3.12.7"
  }
 },
 "nbformat": 4,
 "nbformat_minor": 5
}
